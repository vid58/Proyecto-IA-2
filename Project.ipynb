{
  "cells": [
    {
      "cell_type": "code",
      "execution_count": 1,
      "metadata": {
        "id": "RNbMAbE1Y55J"
      },
      "outputs": [],
      "source": [
        "import pandas as pd\n",
        "import numpy as np\n",
        "from matplotlib import pyplot as plt\n"
      ]
    },
    {
      "cell_type": "markdown",
      "metadata": {
        "id": "wr0i65FaY55O"
      },
      "source": [
        "# Data extraction"
      ]
    },
    {
      "cell_type": "code",
      "execution_count": null,
      "metadata": {
        "id": "vxlQQXxwY55R"
      },
      "outputs": [],
      "source": [
        "train_file = \"./dataset/sign_mnist_train.csv\"\n",
        "test_file = \"./dataset/sign_mnist_test.csv\"\n",
        "\n"
      ]
    },
    {
      "cell_type": "code",
      "execution_count": null,
      "metadata": {
        "id": "aTfMdG0zY55S"
      },
      "outputs": [],
      "source": [
        "data = pd.read_csv(train_file,header=0)\n",
        "test_data = pd.read_csv(test_file,header=0)\n",
        "\n",
        "def parse_data(data):\n",
        "    x = data.drop('label', axis=1).to_numpy()\n",
        "    y = pd.DataFrame(data =  data['label'] , columns = ['label']).to_numpy()\n",
        "    return x, y.ravel()\n",
        "def lab2char(label):\n",
        "    return chr( ord('a')  + label)\n",
        "\n",
        "x,y = parse_data(data)\n",
        "x_test, y_test = parse_data(test_data)"
      ]
    },
    {
      "cell_type": "code",
      "execution_count": null,
      "metadata": {
        "id": "pMPFslRqY55T",
        "outputId": "2755f663-0304-4e16-f5c0-fd65e88e2d49"
      },
      "outputs": [
        {
          "name": "stdout",
          "output_type": "stream",
          "text": [
            "<class 'numpy.ndarray'> <class 'numpy.ndarray'>\n",
            "(27455, 784) (27455,)\n"
          ]
        }
      ],
      "source": [
        "print(type(x), type(y) )\n",
        "print(x.shape, y.shape)"
      ]
    },
    {
      "cell_type": "code",
      "execution_count": null,
      "metadata": {
        "id": "MhG1T0B1Y55U",
        "outputId": "bba99179-7e22-47cb-e57c-3da422cd7166"
      },
      "outputs": [
        {
          "data": {
            "image/png": "[encoded data removed]",
            "text/plain": [
              "<Figure size 432x288 with 1 Axes>"
            ]
          },
          "metadata": {
            "needs_background": "light"
          },
          "output_type": "display_data"
        },
        {
          "data": {
            "image/png": "[encoded data removed]",
            "text/plain": [
              "<Figure size 432x288 with 1 Axes>"
            ]
          },
          "metadata": {
            "needs_background": "light"
          },
          "output_type": "display_data"
        }
      ],
      "source": [
        "def vec2img(xi, dim = 28):\n",
        "    return xi.reshape((dim,dim))\n",
        "\n",
        "def show_image(img):\n",
        "    plt.imshow(img)\n",
        "    plt.show()\n",
        "    \n",
        "# print(lab2char( y[1]))\n",
        "show_image(vec2img(x[1]))\n",
        "show_image(vec2img(x[2]))"
      ]
    },
    {
      "cell_type": "markdown",
      "metadata": {
        "id": "W7r9Ke15Y55V"
      },
      "source": [
        "## Dimention Reduction"
      ]
    },
    {
      "cell_type": "code",
      "execution_count": null,
      "metadata": {
        "id": "FBCC1VedY55W"
      },
      "outputs": [],
      "source": [
        "from skimage.io import imread, imshow\n",
        "from skimage.transform import resize\n",
        "import matplotlib.pyplot as plt\n",
        "import pywt\n",
        "import pywt.data\n",
        "from numpy import imag\n"
      ]
    },
    {
      "cell_type": "code",
      "execution_count": null,
      "metadata": {
        "id": "wEvFO5_UY55X"
      },
      "outputs": [],
      "source": [
        "x_train_original = x\n",
        "x_test_original = x_test\n"
      ]
    },
    {
      "cell_type": "code",
      "execution_count": 5,
      "metadata": {
        "id": "dmhvitVRY55Y"
      },
      "outputs": [],
      "source": [
        "def Haar(imagen, cortes):\n",
        "  for i in range(cortes):\n",
        "    imagen, (LH, HL, HH) = pywt.dwt2(imagen, 'haar') \n",
        "  return imagen\n",
        "\n",
        "def haar_reduction(X, cuts = 2):\n",
        "    sample_img = vec2img(X[0])\n",
        "    sample_haar = Haar(sample_img,cuts)\n",
        "    features = len(sample_haar.ravel())\n",
        "    rX = np.ones((np.shape(X)[0], features))\n",
        "    for i, img in enumerate(X):\n",
        "      # print(i)\n",
        "      rX[i] = Haar(vec2img(img), cuts).ravel()\n",
        "\n",
        "    return rX\n",
        "\n"
      ]
    },
    {
      "cell_type": "code",
      "execution_count": null,
      "metadata": {
        "id": "Gca80XhfY55Y"
      },
      "outputs": [],
      "source": [
        "x_reduce  = haar_reduction(x_train_original)\n",
        "x_test_reduce  = haar_reduction(x_test_original)"
      ]
    },
    {
      "cell_type": "code",
      "execution_count": null,
      "metadata": {
        "id": "S0osPWvFY55Z",
        "outputId": "50f94edc-74cb-4322-8c57-628c9f9585fd"
      },
      "outputs": [
        {
          "name": "stdout",
          "output_type": "stream",
          "text": [
            "(27455, 784) (7172, 784)\n"
          ]
        }
      ],
      "source": [
        "print(x.shape, x_test.shape)"
      ]
    },
    {
      "cell_type": "markdown",
      "metadata": {
        "id": "GtXWLKrXY55Z"
      },
      "source": [
        "## Clasification"
      ]
    },
    {
      "cell_type": "code",
      "execution_count": null,
      "metadata": {
        "id": "WCUul0dnY55a"
      },
      "outputs": [],
      "source": [
        "# models\n",
        "import imp\n",
        "from sklearn import svm\n",
        "from sklearn.neighbors import KNeighborsClassifier\n",
        "from sklearn import tree\n",
        "import scipy\n",
        "\n",
        "#score methods\n",
        "from sklearn.model_selection import KFold\n",
        "from sklearn.model_selection import cross_val_score\n",
        "\n",
        "#metrics\n",
        "import sklearn as sk\n",
        "import sklearn.utils\n",
        "from sklearn.metrics import confusion_matrix\n",
        "from sklearn.metrics import accuracy_score\n",
        "from sklearn.metrics import plot_confusion_matrix\n",
        "\n",
        "#utils\n",
        "import seaborn as sns\n",
        "from sklearn.utils import resample\n",
        "from math import ceil\n",
        "from tqdm import tqdm\n",
        "import matplotlib.pyplot as plt\n"
      ]
    },
    {
      "cell_type": "code",
      "execution_count": null,
      "metadata": {
        "id": "mZynzvSPY55a"
      },
      "outputs": [],
      "source": [
        "def plot_scores(scores, xerr ,model_name = \"DS\", x_label = \"depth\"):\n",
        "    yerr = [np.mean(score) for score in scores]\n",
        "    err = [np.std(score) for score in scores]\n",
        "    plt.style.use('seaborn-whitegrid')\n",
        "    plt.errorbar(xerr, yerr, err, linestyle = 'dashed', fmt = 'o', ecolor='lightgray', elinewidth=3, capsize=0)\n",
        "    plt.title(f'Error distribution for {model_name}')\n",
        "    plt.ylabel('Error distribution')\n",
        "    # plt.xlabel(x_label)\n",
        "\n",
        "def cv_evaluate_model(models, X, y, name = \"Classifier\", kfolds = 10):\n",
        "    scores = []\n",
        "    for modelclf in tqdm(models,  leave=False, desc=f'cross predict for{name}'):\n",
        "        kfold = KFold(n_splits = kfolds, shuffle= True)\n",
        "        score = cross_val_score(estimator=modelclf, X=x, y=y, cv= kfold , n_jobs=-1)\n",
        "        scores.append(score)\n",
        "    return scores\n"
      ]
    },
    {
      "cell_type": "code",
      "execution_count": null,
      "metadata": {
        "id": "uAtdcEi1Y55b",
        "outputId": "0edec053-6ed6-44ac-efaa-d8daee8fbcca"
      },
      "outputs": [
        {
          "name": "stdout",
          "output_type": "stream",
          "text": [
            "(27455, 5) (27455,)\n",
            "(7172, 5) (7172,)\n"
          ]
        }
      ],
      "source": [
        "print(x.shape, y.shape)\n",
        "print(x_test.shape, y_test.shape)"
      ]
    },
    {
      "cell_type": "code",
      "execution_count": null,
      "metadata": {
        "id": "d4THGVd0Y55c"
      },
      "outputs": [],
      "source": [
        "def bias_variance_decomposition(y_pred, y_real):\n",
        "    modal_predictions = scipy.stats.mode(y_pred, axis=0)[0][0]\n",
        "    mean_loss = np.mean(y_pred != y_real)\n",
        "    mean_bias = np.mean(modal_predictions != y_real)\n",
        "    mean_var = np.mean(modal_predictions != y_pred)\n",
        "    \n",
        "    return mean_loss, mean_bias, mean_var\n"
      ]
    },
    {
      "cell_type": "code",
      "execution_count": null,
      "metadata": {
        "id": "MUv6Yf0RY55c"
      },
      "outputs": [],
      "source": [
        "def cv_sample(X, y, folds = 10, random_state = 42):\n",
        "    kfold = KFold(n_splits = folds, shuffle= True)\n",
        "    return kfold.split(X,y)\n",
        "\n",
        "def cross_validation(X, y, X_t, y_t, model, model_name = '', n_experiments = 10):\n",
        "    presicion = np.zeros((n_experiments, 1))\n",
        "    recall = np.zeros((n_experiments, 1))\n",
        "    f1 = np.zeros((n_experiments, 1))\n",
        "    auc = np.zeros((n_experiments, 1))\n",
        "    loss = np.zeros((n_experiments, 1))\n",
        "    bias = np.zeros((n_experiments, 1))\n",
        "    var = np.zeros((n_experiments, 1))\n",
        " \n",
        "    kfold = KFold(n_splits=  10, shuffle= True, random_state= 42)\n",
        "    i = 0\n",
        "    for train,test in tqdm(kfold.split(X), leave=False, total=kfold.get_n_splits(), desc=f\"k-fold with {model_name}\") :\n",
        "        xb, yb  = x[train], y[train]\n",
        "        clf  = model.fit(xb, yb)\n",
        "        y_pred = clf.predict(X_t)\n",
        "        #presicion\n",
        "        presicion[i] = sklearn.metrics.precision_score(y_t, y_pred, average = 'micro')\n",
        "        #recall\n",
        "        recall[i]   = sklearn.metrics.recall_score(y_t, y_pred, average = 'macro')\n",
        "        #f1 \n",
        "        f1[i] = sklearn.metrics.f1_score(y_t, y_pred, average = 'macro')\n",
        "        #aux\n",
        "        y_pred_proba = clf.predict_proba(X_t)\n",
        "        auc[i] = sklearn.metrics.roc_auc_score(y_test, y_pred_proba, multi_class = 'ovr')\n",
        "        loss[i], bias[i], var[i] = bias_variance_decomposition(y_pred, y_t)\n",
        "        i = i + 1\n",
        "    \n",
        "    df = pd.DataFrame(data=[[presicion.mean(), recall.mean(), f1.mean(), auc.mean(), loss.mean(), bias.mean(), var.mean()]], columns=['presicion', 'recall', 'f1', 'auc', 'loss', 'bias', 'var'])\n",
        "    return df   \n"
      ]
    },
    {
      "cell_type": "code",
      "execution_count": null,
      "metadata": {
        "id": "snWTTku7Y55d"
      },
      "outputs": [],
      "source": [
        "from pyexpat import model\n",
        "from statistics import mode\n",
        "from numpy import average\n",
        "from sklearn import multiclass\n",
        "\n",
        "\n",
        "def bs_sample(X,y, random_state = 42):    \n",
        "    ind = np.array( [i for i in range(X.shape[0])] )\n",
        "    sample = resample(ind, random_state = random_state)\n",
        "    test_sample = np.delete(ind, sample)\n",
        "\n",
        "    xb, yb = X[sample], y[sample] \n",
        "    xt ,yt  = X[test_sample] , y[test_sample]\n",
        "    return xb, yb, xt, yt        \n",
        "\n",
        "def Boostrap(X, y, X_t, y_t, model, model_name = '', n_experiments = 10):\n",
        "    presicion = np.zeros((n_experiments, 1))\n",
        "    recall = np.zeros((n_experiments, 1))\n",
        "    f1 = np.zeros((n_experiments, 1))\n",
        "    auc = np.zeros((n_experiments, 1))\n",
        "    loss = np.zeros((n_experiments, 1))\n",
        "    bias = np.zeros((n_experiments, 1))\n",
        "    var = np.zeros((n_experiments, 1))\n",
        "\n",
        "\n",
        "    for i in tqdm(range(n_experiments),  leave=False, desc=f'Boostraping {model_name}'):\n",
        "        #fit \n",
        "        xb, yb, _, _ = bs_sample(X,y, 42 + 1)\n",
        "        clf  = model.fit(xb, yb)\n",
        "        #predict\n",
        "        y_pred = clf.predict(X_t)\n",
        "        #presicion\n",
        "        presicion[i] = sklearn.metrics.precision_score(y_t, y_pred, average = 'micro')\n",
        "        #recall\n",
        "        recall[i]   = sklearn.metrics.recall_score(y_t, y_pred, average = 'macro')\n",
        "        #f1 \n",
        "        f1[i] = sklearn.metrics.f1_score(y_t, y_pred, average = 'macro')\n",
        "        #aux\n",
        "        y_pred_proba = clf.predict_proba(X_t)\n",
        "        auc[i] = sklearn.metrics.roc_auc_score(y_t, y_pred_proba, multi_class = 'ovr')\n",
        "        loss[i], bias[i], var[i] = bias_variance_decomposition(y_pred, y_t)\n",
        "        i = i + 1\n",
        "    \n",
        "\n",
        "    df = pd.DataFrame(data=[[presicion.mean(), recall.mean(), f1.mean(), auc.mean(), loss.mean(), bias.mean(), var.mean()]], columns=['presicion', 'recall', 'f1', 'auc', 'loss', 'bias', 'var'])\n",
        "\n",
        "    return df\n"
      ]
    },
    {
      "cell_type": "markdown",
      "metadata": {
        "id": "IvaTXOXKY55e"
      },
      "source": [
        "# Testing"
      ]
    },
    {
      "cell_type": "code",
      "execution_count": null,
      "metadata": {
        "id": "SZxnRxQjY55e"
      },
      "outputs": [],
      "source": [
        "dst_changes =  [pow(2, i) for i in range(2, 8)]\n",
        "dst_hyper = \"Depth\"\n",
        "dst_models = [ tree.DecisionTreeClassifier(max_depth= i) for i in dst_changes]\n",
        "dst_names  = [f\"DST with max depth {i}\"for i in dst_changes]\n",
        "\n",
        "cnn_changes = [pow(2, i ) for i in range(2, 7)]\n",
        "cnn_models = [ KNeighborsClassifier(n_neighbors = i, n_jobs= 4) for i in cnn_changes]\n",
        "cnn_names  = [f\"CNN with k {i}\" for i in cnn_changes]\n",
        "cnn_hyper = \"Knn\"\n",
        "\n",
        "svm_changes = [pow(2, i ) for i in range(-1, 12,2)]\n",
        "svm_models = [ svm.SVC(decision_function_shape='ovr', C = i, probability= True) for i in svm_changes]\n",
        "svm_names  = [f\"SVM with C {i}\" for i in svm_changes]\n",
        "svm_hyper = \"C\""
      ]
    },
    {
      "cell_type": "code",
      "execution_count": null,
      "metadata": {
        "id": "dwF3r2ZwY55e"
      },
      "outputs": [],
      "source": [
        "def test_models(X, y, Xt, yt, models, names, hyper, changes):\n",
        "    df_lst = []\n",
        "    for i, model in enumerate(tqdm(models , desc= \"Testing models with k fold\")):\n",
        "        df_lst.append( cross_validation(X,y, Xt, yt , model, names[i])  )\n",
        "        df_lst[-1]['sampling'] = \"KFold\"\n",
        "        df_lst[-1][hyper] = changes[i]\n",
        "    \n",
        "    for i, model in enumerate(tqdm(models,desc= \"Testing models with Boostrap\")):\n",
        "        df_lst.append( Boostrap(X,y, Xt, yt , model, names[i])  )\n",
        "        df_lst[-1]['sampling'] = \"Boostrap\"\n",
        "        df_lst[-1][hyper] = changes[i]\n",
        "\n",
        "    return df_lst        \n"
      ]
    },
    {
      "cell_type": "code",
      "execution_count": null,
      "metadata": {
        "id": "ViKTqnzSY55f"
      },
      "outputs": [],
      "source": [
        "from sklearn.discriminant_analysis import LinearDiscriminantAnalysis as LDA\n",
        "# from sklearn.pipeline import Pipeline\n",
        "# from sklearn.naive_bayes import GaussianNB\n",
        "# from sklearn.preprocessing import StandardScaler\n",
        "from sklearn.preprocessing import MinMaxScaler\n",
        "\n",
        "# x_reduce\n",
        "# x_test_reduce\n",
        "lda = LDA()\n",
        "# scaler = MinMaxScaler()\n",
        "\n",
        "x_reduce  = haar_reduction(x_train_original)\n",
        "x_test_reduce  = haar_reduction(x_test_original)\n",
        "\n",
        "x = lda.fit_transform(x_reduce, y)\n",
        "x_test = lda.transform(x_test_reduce)"
      ]
    },
    {
      "cell_type": "code",
      "execution_count": null,
      "metadata": {
        "id": "i1xCXDlVY55f",
        "outputId": "7918d648-4e37-48bf-f877-75faecd412ea"
      },
      "outputs": [
        {
          "name": "stdout",
          "output_type": "stream",
          "text": [
            "(27455, 784) (7172, 784)\n",
            "(27455, 49) (7172, 49)\n",
            "(27455, 23) (7172, 23)\n"
          ]
        }
      ],
      "source": [
        "print(x_train_original.shape, x_test_original.shape)\n",
        "print(x_reduce.shape, x_test_reduce.shape)\n",
        "print(x.shape, x_test.shape)"
      ]
    },
    {
      "cell_type": "code",
      "execution_count": null,
      "metadata": {
        "id": "OEPoW1cAY55g",
        "outputId": "678c1dc9-5631-4bef-9387-47851dc6f326"
      },
      "outputs": [
        {
          "name": "stderr",
          "output_type": "stream",
          "text": [
            "Testing models with k fold: 100%|██████████| 5/5 [01:30<00:00, 18.07s/it]\n",
            "Testing models with Boostrap: 100%|██████████| 5/5 [00:39<00:00,  8.00s/it]\n"
          ]
        },
        {
          "data": {
            "text/html": [
              "<div>\n",
              "<style scoped>\n",
              "    .dataframe tbody tr th:only-of-type {\n",
              "        vertical-align: middle;\n",
              "    }\n",
              "\n",
              "    .dataframe tbody tr th {\n",
              "        vertical-align: top;\n",
              "    }\n",
              "\n",
              "    .dataframe thead th {\n",
              "        text-align: right;\n",
              "    }\n",
              "</style>\n",
              "<table border=\"1\" class=\"dataframe\">\n",
              "  <thead>\n",
              "    <tr style=\"text-align: right;\">\n",
              "      <th></th>\n",
              "      <th>presicion</th>\n",
              "      <th>recall</th>\n",
              "      <th>f1</th>\n",
              "      <th>auc</th>\n",
              "      <th>loss</th>\n",
              "      <th>bias</th>\n",
              "      <th>var</th>\n",
              "      <th>sampling</th>\n",
              "      <th>Knn</th>\n",
              "    </tr>\n",
              "  </thead>\n",
              "  <tbody>\n",
              "    <tr>\n",
              "      <th>5</th>\n",
              "      <td>0.825711</td>\n",
              "      <td>0.825913</td>\n",
              "      <td>0.816281</td>\n",
              "      <td>0.919476</td>\n",
              "      <td>0.174289</td>\n",
              "      <td>0.930563</td>\n",
              "      <td>0.922895</td>\n",
              "      <td>Boostrap</td>\n",
              "      <td>4</td>\n",
              "    </tr>\n",
              "    <tr>\n",
              "      <th>1</th>\n",
              "      <td>0.825683</td>\n",
              "      <td>0.825455</td>\n",
              "      <td>0.816104</td>\n",
              "      <td>0.933680</td>\n",
              "      <td>0.174317</td>\n",
              "      <td>0.930563</td>\n",
              "      <td>0.923076</td>\n",
              "      <td>KFold</td>\n",
              "      <td>8</td>\n",
              "    </tr>\n",
              "    <tr>\n",
              "      <th>0</th>\n",
              "      <td>0.824526</td>\n",
              "      <td>0.824224</td>\n",
              "      <td>0.814634</td>\n",
              "      <td>0.923609</td>\n",
              "      <td>0.175474</td>\n",
              "      <td>0.930563</td>\n",
              "      <td>0.922574</td>\n",
              "      <td>KFold</td>\n",
              "      <td>4</td>\n",
              "    </tr>\n",
              "    <tr>\n",
              "      <th>6</th>\n",
              "      <td>0.824456</td>\n",
              "      <td>0.824376</td>\n",
              "      <td>0.814581</td>\n",
              "      <td>0.928371</td>\n",
              "      <td>0.175544</td>\n",
              "      <td>0.930563</td>\n",
              "      <td>0.923313</td>\n",
              "      <td>Boostrap</td>\n",
              "      <td>8</td>\n",
              "    </tr>\n",
              "    <tr>\n",
              "      <th>2</th>\n",
              "      <td>0.822699</td>\n",
              "      <td>0.822477</td>\n",
              "      <td>0.813540</td>\n",
              "      <td>0.952252</td>\n",
              "      <td>0.177301</td>\n",
              "      <td>0.930563</td>\n",
              "      <td>0.923187</td>\n",
              "      <td>KFold</td>\n",
              "      <td>16</td>\n",
              "    </tr>\n",
              "  </tbody>\n",
              "</table>\n",
              "</div>"
            ],
            "text/plain": [
              "   presicion    recall        f1       auc      loss      bias       var  \\\n",
              "5   0.825711  0.825913  0.816281  0.919476  0.174289  0.930563  0.922895   \n",
              "1   0.825683  0.825455  0.816104  0.933680  0.174317  0.930563  0.923076   \n",
              "0   0.824526  0.824224  0.814634  0.923609  0.175474  0.930563  0.922574   \n",
              "6   0.824456  0.824376  0.814581  0.928371  0.175544  0.930563  0.923313   \n",
              "2   0.822699  0.822477  0.813540  0.952252  0.177301  0.930563  0.923187   \n",
              "\n",
              "   sampling  Knn  \n",
              "5  Boostrap    4  \n",
              "1     KFold    8  \n",
              "0     KFold    4  \n",
              "6  Boostrap    8  \n",
              "2     KFold   16  "
            ]
          },
          "execution_count": 196,
          "metadata": {},
          "output_type": "execute_result"
        }
      ],
      "source": [
        "cnn_dfs = test_models(x, y, x_test, y_test, cnn_models, cnn_names, cnn_hyper, cnn_changes)\n",
        "cnn_res = pd.concat(cnn_dfs, ignore_index= True)\n",
        "cnn_res.sort_values(by=['presicion'], ascending=False).head()"
      ]
    },
    {
      "cell_type": "code",
      "execution_count": null,
      "metadata": {
        "id": "dw1Eh_7rY55g",
        "outputId": "cd517b64-0a1a-435b-b1b2-ee58d2b23275"
      },
      "outputs": [
        {
          "name": "stderr",
          "output_type": "stream",
          "text": [
            "Testing models with k fold: 100%|██████████| 6/6 [01:06<00:00, 11.11s/it]\n",
            "Testing models with Boostrap: 100%|██████████| 6/6 [01:02<00:00, 10.43s/it]\n"
          ]
        },
        {
          "data": {
            "text/html": [
              "<div>\n",
              "<style scoped>\n",
              "    .dataframe tbody tr th:only-of-type {\n",
              "        vertical-align: middle;\n",
              "    }\n",
              "\n",
              "    .dataframe tbody tr th {\n",
              "        vertical-align: top;\n",
              "    }\n",
              "\n",
              "    .dataframe thead th {\n",
              "        text-align: right;\n",
              "    }\n",
              "</style>\n",
              "<table border=\"1\" class=\"dataframe\">\n",
              "  <thead>\n",
              "    <tr style=\"text-align: right;\">\n",
              "      <th></th>\n",
              "      <th>presicion</th>\n",
              "      <th>recall</th>\n",
              "      <th>f1</th>\n",
              "      <th>auc</th>\n",
              "      <th>loss</th>\n",
              "      <th>bias</th>\n",
              "      <th>var</th>\n",
              "      <th>sampling</th>\n",
              "      <th>Depth</th>\n",
              "    </tr>\n",
              "  </thead>\n",
              "  <tbody>\n",
              "    <tr>\n",
              "      <th>11</th>\n",
              "      <td>0.521640</td>\n",
              "      <td>0.506466</td>\n",
              "      <td>0.502875</td>\n",
              "      <td>0.742852</td>\n",
              "      <td>0.478360</td>\n",
              "      <td>0.944311</td>\n",
              "      <td>0.939668</td>\n",
              "      <td>Boostrap</td>\n",
              "      <td>128</td>\n",
              "    </tr>\n",
              "    <tr>\n",
              "      <th>4</th>\n",
              "      <td>0.517289</td>\n",
              "      <td>0.504532</td>\n",
              "      <td>0.501132</td>\n",
              "      <td>0.741791</td>\n",
              "      <td>0.482711</td>\n",
              "      <td>0.944325</td>\n",
              "      <td>0.937019</td>\n",
              "      <td>KFold</td>\n",
              "      <td>64</td>\n",
              "    </tr>\n",
              "    <tr>\n",
              "      <th>5</th>\n",
              "      <td>0.516230</td>\n",
              "      <td>0.501953</td>\n",
              "      <td>0.498604</td>\n",
              "      <td>0.740477</td>\n",
              "      <td>0.483770</td>\n",
              "      <td>0.942206</td>\n",
              "      <td>0.936656</td>\n",
              "      <td>KFold</td>\n",
              "      <td>128</td>\n",
              "    </tr>\n",
              "    <tr>\n",
              "      <th>2</th>\n",
              "      <td>0.516188</td>\n",
              "      <td>0.502668</td>\n",
              "      <td>0.500232</td>\n",
              "      <td>0.755660</td>\n",
              "      <td>0.483812</td>\n",
              "      <td>0.948299</td>\n",
              "      <td>0.935597</td>\n",
              "      <td>KFold</td>\n",
              "      <td>16</td>\n",
              "    </tr>\n",
              "    <tr>\n",
              "      <th>3</th>\n",
              "      <td>0.515937</td>\n",
              "      <td>0.504097</td>\n",
              "      <td>0.500076</td>\n",
              "      <td>0.741545</td>\n",
              "      <td>0.484063</td>\n",
              "      <td>0.939571</td>\n",
              "      <td>0.936893</td>\n",
              "      <td>KFold</td>\n",
              "      <td>32</td>\n",
              "    </tr>\n",
              "  </tbody>\n",
              "</table>\n",
              "</div>"
            ],
            "text/plain": [
              "    presicion    recall        f1       auc      loss      bias       var  \\\n",
              "11   0.521640  0.506466  0.502875  0.742852  0.478360  0.944311  0.939668   \n",
              "4    0.517289  0.504532  0.501132  0.741791  0.482711  0.944325  0.937019   \n",
              "5    0.516230  0.501953  0.498604  0.740477  0.483770  0.942206  0.936656   \n",
              "2    0.516188  0.502668  0.500232  0.755660  0.483812  0.948299  0.935597   \n",
              "3    0.515937  0.504097  0.500076  0.741545  0.484063  0.939571  0.936893   \n",
              "\n",
              "    sampling  Depth  \n",
              "11  Boostrap    128  \n",
              "4      KFold     64  \n",
              "5      KFold    128  \n",
              "2      KFold     16  \n",
              "3      KFold     32  "
            ]
          },
          "execution_count": 197,
          "metadata": {},
          "output_type": "execute_result"
        }
      ],
      "source": [
        "dst_dfs = test_models(x, y, x_test, y_test, dst_models, dst_names, dst_hyper, dst_changes)\n",
        "dst_res = pd.concat(dst_dfs, ignore_index= True)\n",
        "dst_res.sort_values(by=['presicion'], ascending=False).head()"
      ]
    },
    {
      "cell_type": "code",
      "execution_count": null,
      "metadata": {
        "id": "pcwiDzOjY55g",
        "outputId": "a3e30104-5b77-4993-e895-a62fdcfa7bd7"
      },
      "outputs": [
        {
          "name": "stderr",
          "output_type": "stream",
          "text": [
            "Testing models with k fold: 100%|██████████| 7/7 [33:25<00:00, 286.44s/it]\n",
            "Testing models with Boostrap: 100%|██████████| 7/7 [32:56<00:00, 282.33s/it]\n"
          ]
        },
        {
          "data": {
            "text/html": [
              "<div>\n",
              "<style scoped>\n",
              "    .dataframe tbody tr th:only-of-type {\n",
              "        vertical-align: middle;\n",
              "    }\n",
              "\n",
              "    .dataframe tbody tr th {\n",
              "        vertical-align: top;\n",
              "    }\n",
              "\n",
              "    .dataframe thead th {\n",
              "        text-align: right;\n",
              "    }\n",
              "</style>\n",
              "<table border=\"1\" class=\"dataframe\">\n",
              "  <thead>\n",
              "    <tr style=\"text-align: right;\">\n",
              "      <th></th>\n",
              "      <th>presicion</th>\n",
              "      <th>recall</th>\n",
              "      <th>f1</th>\n",
              "      <th>auc</th>\n",
              "      <th>loss</th>\n",
              "      <th>bias</th>\n",
              "      <th>var</th>\n",
              "      <th>sampling</th>\n",
              "      <th>C</th>\n",
              "    </tr>\n",
              "  </thead>\n",
              "  <tbody>\n",
              "    <tr>\n",
              "      <th>7</th>\n",
              "      <td>0.844255</td>\n",
              "      <td>0.839023</td>\n",
              "      <td>0.828873</td>\n",
              "      <td>0.985763</td>\n",
              "      <td>0.155745</td>\n",
              "      <td>0.930563</td>\n",
              "      <td>0.921082</td>\n",
              "      <td>Boostrap</td>\n",
              "      <td>0.5</td>\n",
              "    </tr>\n",
              "    <tr>\n",
              "      <th>8</th>\n",
              "      <td>0.844116</td>\n",
              "      <td>0.838833</td>\n",
              "      <td>0.829236</td>\n",
              "      <td>0.986678</td>\n",
              "      <td>0.155884</td>\n",
              "      <td>0.930563</td>\n",
              "      <td>0.921221</td>\n",
              "      <td>Boostrap</td>\n",
              "      <td>2.0</td>\n",
              "    </tr>\n",
              "    <tr>\n",
              "      <th>1</th>\n",
              "      <td>0.843126</td>\n",
              "      <td>0.837916</td>\n",
              "      <td>0.828136</td>\n",
              "      <td>0.986722</td>\n",
              "      <td>0.156874</td>\n",
              "      <td>0.930563</td>\n",
              "      <td>0.921277</td>\n",
              "      <td>KFold</td>\n",
              "      <td>2.0</td>\n",
              "    </tr>\n",
              "    <tr>\n",
              "      <th>0</th>\n",
              "      <td>0.841035</td>\n",
              "      <td>0.835471</td>\n",
              "      <td>0.825772</td>\n",
              "      <td>0.986306</td>\n",
              "      <td>0.158965</td>\n",
              "      <td>0.930563</td>\n",
              "      <td>0.922992</td>\n",
              "      <td>KFold</td>\n",
              "      <td>0.5</td>\n",
              "    </tr>\n",
              "    <tr>\n",
              "      <th>2</th>\n",
              "      <td>0.838553</td>\n",
              "      <td>0.833805</td>\n",
              "      <td>0.823553</td>\n",
              "      <td>0.986729</td>\n",
              "      <td>0.161447</td>\n",
              "      <td>0.930563</td>\n",
              "      <td>0.922476</td>\n",
              "      <td>KFold</td>\n",
              "      <td>8.0</td>\n",
              "    </tr>\n",
              "  </tbody>\n",
              "</table>\n",
              "</div>"
            ],
            "text/plain": [
              "   presicion    recall        f1       auc      loss      bias       var  \\\n",
              "7   0.844255  0.839023  0.828873  0.985763  0.155745  0.930563  0.921082   \n",
              "8   0.844116  0.838833  0.829236  0.986678  0.155884  0.930563  0.921221   \n",
              "1   0.843126  0.837916  0.828136  0.986722  0.156874  0.930563  0.921277   \n",
              "0   0.841035  0.835471  0.825772  0.986306  0.158965  0.930563  0.922992   \n",
              "2   0.838553  0.833805  0.823553  0.986729  0.161447  0.930563  0.922476   \n",
              "\n",
              "   sampling    C  \n",
              "7  Boostrap  0.5  \n",
              "8  Boostrap  2.0  \n",
              "1     KFold  2.0  \n",
              "0     KFold  0.5  \n",
              "2     KFold  8.0  "
            ]
          },
          "execution_count": 198,
          "metadata": {},
          "output_type": "execute_result"
        }
      ],
      "source": [
        "svm_dfs = test_models(x, y , x_test, y_test , svm_models, svm_names, svm_hyper, svm_changes)\n",
        "svm_res = pd.concat(svm_dfs, ignore_index= True)\n",
        "svm_res.sort_values(by=['presicion'], ascending=False).head()"
      ]
    },
    {
      "cell_type": "code",
      "execution_count": null,
      "metadata": {
        "id": "ZnTourJ4Y55h"
      },
      "outputs": [],
      "source": [
        "svm_res.to_csv(\"res/svm1.csv\", index = False)\n",
        "cnn_res.to_csv(\"res/cnn1.csv\", index = False)\n",
        "dst_res.to_csv(\"res/dst1.csv\", index = False)"
      ]
    },
    {
      "cell_type": "markdown",
      "metadata": {
        "id": "pn_-uy0XSCun"
      },
      "source": [
        "Live Webcam"
      ]
    },
    {
      "cell_type": "code",
      "execution_count": 3,
      "metadata": {},
      "outputs": [
        {
          "name": "stdout",
          "output_type": "stream",
          "text": [
            "LinearDiscriminantAnalysis()\n"
          ]
        }
      ],
      "source": [
        "from sklearn.discriminant_analysis import LinearDiscriminantAnalysis as LDA\n",
        "from sklearn import svm\n",
        "from sklearn.neighbors import KNeighborsClassifier\n",
        "import pickle\n",
        "\n",
        "import cv2\n",
        "import pywt\n",
        "import pywt.data\n",
        "from numpy import imag\n",
        "import numpy as np\n",
        "\n",
        "def Haar(imagen, cortes):\n",
        "  for i in range(cortes):\n",
        "    imagen, (LH, HL, HH) = pywt.dwt2(imagen, 'haar') \n",
        "  return imagen\n",
        "\n",
        "def haar_reduction(X, cuts = 2):\n",
        "    sample_img = vec2img(X[0])\n",
        "    sample_haar = Haar(sample_img,cuts)\n",
        "    features = len(sample_haar.ravel())\n",
        "    rX = np.ones((np.shape(X)[0], features))\n",
        "    for i, img in enumerate(X):\n",
        "      # print(i)\n",
        "      rX[i] = Haar(vec2img(img), cuts).ravel()\n",
        "\n",
        "    return rX\n",
        "\n",
        "def vec2img(xi, dim = 28):\n",
        "    return xi.reshape((dim,dim))\n",
        "\n",
        "filename = 'cnn_model.sav'\n",
        "l_filename = 'lda_model.sav'\n",
        "\n",
        "\n",
        "model = pickle.load(open(filename, 'rb'))\n",
        "\n",
        "lda = pickle.load(open(l_filename, 'rb'))\n",
        "#print(loaded_model)\n",
        "print(lda)"
      ]
    },
    {
      "cell_type": "code",
      "execution_count": 4,
      "metadata": {
        "colab": {
          "base_uri": "https://localhost:8080/",
          "height": 67,
          "referenced_widgets": [
            "ab0d983631a246199c725f0b23f1847c",
            "b232b0cd2b9b4540a395d397f2c89d4c",
            "cb01aee6d0fb4edcbf6b89b9df891717"
          ]
        },
        "id": "Jjj31B9TSFJr",
        "outputId": "9654ef20-6e47-454c-d367-7f0e040d0377"
      },
      "outputs": [
        {
          "name": "stdout",
          "output_type": "stream",
          "text": [
            "c\n",
            "g\n",
            "h\n",
            "h\n",
            "l\n",
            "l\n",
            "o\n",
            "o\n",
            "l\n",
            "l\n",
            "l\n",
            "g\n",
            "g\n",
            "g\n",
            "g\n",
            "h\n",
            "h\n",
            "h\n",
            "h\n",
            "l\n",
            "r\n",
            "l\n",
            "l\n",
            "l\n",
            "l\n",
            "l\n",
            "l\n",
            "l\n",
            "l\n",
            "p\n",
            "p\n",
            "p\n",
            "l\n",
            "l\n",
            "l\n",
            "l\n",
            "p\n",
            "p\n",
            "p\n",
            "p\n",
            "p\n",
            "p\n",
            "p\n",
            "p\n",
            "p\n",
            "p\n",
            "p\n",
            "p\n",
            "p\n",
            "p\n",
            "p\n",
            "p\n",
            "p\n",
            "p\n",
            "p\n",
            "p\n",
            "p\n",
            "p\n",
            "p\n",
            "p\n",
            "p\n",
            "p\n",
            "p\n",
            "p\n",
            "p\n",
            "p\n",
            "p\n",
            "l\n",
            "p\n",
            "p\n",
            "l\n",
            "p\n",
            "p\n",
            "p\n",
            "p\n",
            "p\n",
            "p\n",
            "p\n",
            "p\n",
            "p\n",
            "p\n",
            "p\n",
            "p\n",
            "p\n",
            "p\n",
            "p\n",
            "p\n",
            "p\n",
            "p\n",
            "p\n",
            "p\n",
            "p\n",
            "p\n",
            "p\n",
            "p\n",
            "p\n",
            "p\n",
            "p\n",
            "p\n",
            "p\n",
            "p\n",
            "p\n",
            "p\n",
            "p\n",
            "p\n",
            "p\n",
            "p\n",
            "p\n",
            "p\n",
            "p\n",
            "p\n",
            "p\n",
            "p\n",
            "p\n",
            "p\n",
            "p\n",
            "p\n",
            "p\n",
            "p\n",
            "p\n",
            "p\n",
            "p\n",
            "p\n",
            "p\n",
            "p\n",
            "p\n",
            "p\n",
            "p\n",
            "p\n",
            "p\n",
            "p\n",
            "p\n",
            "p\n",
            "p\n",
            "p\n",
            "p\n",
            "p\n",
            "p\n",
            "p\n",
            "p\n",
            "p\n",
            "p\n",
            "p\n",
            "p\n",
            "p\n",
            "p\n",
            "p\n",
            "p\n",
            "p\n",
            "p\n",
            "p\n",
            "p\n",
            "p\n",
            "p\n",
            "p\n",
            "p\n",
            "p\n",
            "p\n",
            "p\n",
            "p\n",
            "p\n",
            "p\n",
            "p\n",
            "p\n",
            "p\n",
            "p\n",
            "p\n",
            "p\n",
            "p\n",
            "p\n",
            "p\n",
            "p\n",
            "p\n",
            "p\n",
            "p\n",
            "p\n",
            "p\n",
            "p\n",
            "p\n",
            "p\n",
            "p\n",
            "p\n",
            "p\n",
            "p\n",
            "p\n",
            "p\n",
            "p\n",
            "p\n",
            "p\n",
            "p\n",
            "p\n",
            "p\n",
            "p\n",
            "p\n",
            "p\n",
            "p\n",
            "p\n",
            "p\n",
            "p\n",
            "p\n",
            "p\n",
            "p\n",
            "p\n",
            "p\n",
            "p\n",
            "p\n",
            "p\n",
            "p\n",
            "p\n",
            "p\n",
            "p\n",
            "p\n",
            "p\n",
            "p\n",
            "p\n",
            "p\n",
            "p\n",
            "p\n",
            "p\n",
            "p\n",
            "p\n",
            "p\n",
            "p\n",
            "p\n",
            "p\n",
            "p\n",
            "p\n",
            "p\n",
            "p\n",
            "p\n",
            "p\n",
            "p\n",
            "p\n",
            "p\n",
            "p\n"
          ]
        },
        {
          "ename": "KeyboardInterrupt",
          "evalue": "",
          "output_type": "error",
          "traceback": [
            "\u001b[0;31m---------------------------------------------------------------------------\u001b[0m",
            "\u001b[0;31mKeyboardInterrupt\u001b[0m                         Traceback (most recent call last)",
            "Cell \u001b[0;32mIn [4], line 99\u001b[0m\n\u001b[1;32m     97\u001b[0m cv2\u001b[38;5;241m.\u001b[39mimshow(\u001b[38;5;124m\"\u001b[39m\u001b[38;5;124mSign Detection\u001b[39m\u001b[38;5;124m\"\u001b[39m, frame_copy)\n\u001b[1;32m     98\u001b[0m \u001b[38;5;66;03m# Closing windows with Esc key...(any other key with ord can be used too.)\u001b[39;00m\n\u001b[0;32m---> 99\u001b[0m k \u001b[38;5;241m=\u001b[39m \u001b[43mcv2\u001b[49m\u001b[38;5;241;43m.\u001b[39;49m\u001b[43mwaitKey\u001b[49m\u001b[43m(\u001b[49m\u001b[38;5;241;43m1\u001b[39;49m\u001b[43m)\u001b[49m \u001b[38;5;241m&\u001b[39m \u001b[38;5;241m0xFF\u001b[39m\n\u001b[1;32m    100\u001b[0m \u001b[38;5;28;01mif\u001b[39;00m k \u001b[38;5;241m==\u001b[39m \u001b[38;5;241m27\u001b[39m:\n\u001b[1;32m    101\u001b[0m     \u001b[38;5;28;01mbreak\u001b[39;00m\n",
            "\u001b[0;31mKeyboardInterrupt\u001b[0m: "
          ]
        }
      ],
      "source": [
        "background = None\n",
        "accumulated_weight = 0.5\n",
        "\n",
        "#Creating the dimensions for the ROI...\n",
        "\n",
        "ROI_top = 300\n",
        "ROI_bottom = 900\n",
        "ROI_right = 150\n",
        "ROI_left = 550\n",
        "\n",
        "def cal_accum_avg(frame, accumulated_weight):\n",
        "    global background\n",
        "    \n",
        "    if background is None:\n",
        "        background = frame.copy().astype(\"float\")\n",
        "        return None\n",
        "    cv2.accumulateWeighted(frame, background, accumulated_weight)\n",
        "    \n",
        "def segment_hand(frame, threshold=25):\n",
        "    global background\n",
        "    diff = cv2.absdiff(background.astype(\"uint8\"), frame)\n",
        "    _ , thresholded = cv2.threshold(diff, threshold, 255, cv2.THRESH_BINARY)\n",
        "    contours = cv2.findContours(thresholded.copy(), cv2.RETR_EXTERNAL, cv2.CHAIN_APPROX_SIMPLE)[0]\n",
        "    try:\n",
        "        if len(contours) == 0:\n",
        "            return None\n",
        "        else:\n",
        "            hand_segment_max_cont = max(contours, key=cv2.contourArea)      \n",
        "            return (thresholded, hand_segment_max_cont)\n",
        "    except TypeError:\n",
        "        return None\n",
        "    \n",
        "cam = cv2.VideoCapture(0)\n",
        "num_frames = 0\n",
        "element = 10\n",
        "num_imgs_taken = 0\n",
        "\n",
        "while True:\n",
        "    ret, frame = cam.read()\n",
        "    # flipping the frame to prevent inverted image of captured frame...\n",
        "    frame = cv2.flip(frame, 1)\n",
        "    frame_copy = frame.copy()\n",
        "    roi = frame[ROI_top:ROI_bottom, ROI_right:ROI_left]\n",
        "    gray_frame = cv2.cvtColor(roi, cv2.COLOR_BGR2GRAY)\n",
        "    gray_frame = cv2.GaussianBlur(gray_frame, (9, 9), 0)\n",
        "    if num_frames < 60:\n",
        "        cal_accum_avg(gray_frame, accumulated_weight)\n",
        "        if num_frames <= 59:\n",
        "            \n",
        "            cv2.putText(frame_copy, \"FETCHING BACKGROUND PLEASE WAIT\",\n",
        "                        (80, 200), cv2.FONT_HERSHEY_SIMPLEX, 0.9, (0,0,255), 2)\n",
        "    else: \n",
        "        # Segmenting the hand region...\n",
        "        hand = segment_hand(gray_frame)\n",
        "        \n",
        "        # Checking if we are able to detect the hand...\n",
        "        if hand is not None:\n",
        "            # unpack the thresholded img and the max_contour...\n",
        "            thresholded, hand_segment = hand\n",
        "            dim = (28, 28)\n",
        "\n",
        "            # resize image\n",
        "            thresholded = cv2.resize(thresholded, dim, interpolation = cv2.INTER_AREA)\n",
        "            \n",
        "            #print(thresholded.shape)\n",
        "\n",
        "            reduce_img = Haar(thresholded, cortes= 2).ravel()\n",
        "            pre_img =  np.reshape(reduce_img, (1, -1))\n",
        "            #print(pre_img.shape)\n",
        "            pre_img =  lda.transform(pre_img)\n",
        "            print(chr( ord('a')  + model.predict(pre_img)[0]) )\n",
        "\n",
        "            # Drawing contours around hand segment\n",
        "            cv2.drawContours(frame_copy, [hand_segment + (ROI_right, ROI_top)],\n",
        "                             -1, (255, 0, 0),1)\n",
        "            \n",
        "            cv2.putText(frame_copy, str(num_frames), (70, 45),\n",
        "            cv2.FONT_HERSHEY_SIMPLEX, 1, (0,0,255), 2)\n",
        "            \n",
        "            cv2.putText(frame_copy, str(num_imgs_taken) + 'images' +\"For\" \n",
        "                        + str(element), (200, 400), cv2.FONT_HERSHEY_SIMPLEX, 1,\n",
        "                        (0,0,255), 2)\n",
        "            \n",
        "            # Displaying the thresholded image\n",
        "            cv2.imshow(\"Thresholded Hand Image\", thresholded)\n",
        "            num_imgs_taken +=1\n",
        "        else:\n",
        "            cv2.putText(frame_copy, 'No hand detected...', (200, 400), cv2.FONT_HERSHEY_SIMPLEX, 1, (0,0,255), 2)\n",
        "    # Drawing ROI on frame copy\n",
        "    cv2.rectangle(frame_copy, (ROI_left, ROI_top), (ROI_right,ROI_bottom), (255,128,0), 3)\n",
        "    \n",
        "    cv2.putText(frame_copy, \"DataFlair hand sign recognition_ _ _\", (10, 20), cv2.FONT_ITALIC, 0.5, (51,255,51), 1)\n",
        "    \n",
        "    # increment the number of frames for tracking\n",
        "    num_frames += 1\n",
        "    # Display the frame with segmented hand\n",
        "    cv2.imshow(\"Sign Detection\", frame_copy)\n",
        "    # Closing windows with Esc key...(any other key with ord can be used too.)\n",
        "    k = cv2.waitKey(1) & 0xFF\n",
        "    if k == 27:\n",
        "        break\n",
        "# Releasing the camera & destroying all the windows...\n",
        "cv2.destroyAllWindows()\n",
        "cam.release()"
      ]
    }
  ],
  "metadata": {
    "colab": {
      "collapsed_sections": [],
      "provenance": []
    },
    "kernelspec": {
      "display_name": "Python 3.9.12 ('base')",
      "language": "python",
      "name": "python3"
    },
    "language_info": {
      "codemirror_mode": {
        "name": "ipython",
        "version": 3
      },
      "file_extension": ".py",
      "mimetype": "text/x-python",
      "name": "python",
      "nbconvert_exporter": "python",
      "pygments_lexer": "ipython3",
      "version": "3.9.12"
    },
    "orig_nbformat": 4,
    "vscode": {
      "interpreter": {
        "hash": "ca3d29f37a1a1c4f5e7a988c75b7db15a8dc84e630022593e41cd81ca2ea4c4a"
      }
    },
    "widgets": {
      "application/vnd.jupyter.widget-state+json": {
        "ab0d983631a246199c725f0b23f1847c": {
          "model_module": "@jupyter-widgets/controls",
          "model_module_version": "1.5.0",
          "model_name": "ToggleButtonModel",
          "state": {
            "_dom_classes": [],
            "_model_module": "@jupyter-widgets/controls",
            "_model_module_version": "1.5.0",
            "_model_name": "ToggleButtonModel",
            "_view_count": null,
            "_view_module": "@jupyter-widgets/controls",
            "_view_module_version": "1.5.0",
            "_view_name": "ToggleButtonView",
            "button_style": "danger",
            "description": "Stop",
            "description_tooltip": null,
            "disabled": false,
            "icon": "square",
            "layout": "IPY_MODEL_b232b0cd2b9b4540a395d397f2c89d4c",
            "style": "IPY_MODEL_cb01aee6d0fb4edcbf6b89b9df891717",
            "tooltip": "Description",
            "value": false
          }
        },
        "b232b0cd2b9b4540a395d397f2c89d4c": {
          "model_module": "@jupyter-widgets/base",
          "model_module_version": "1.2.0",
          "model_name": "LayoutModel",
          "state": {
            "_model_module": "@jupyter-widgets/base",
            "_model_module_version": "1.2.0",
            "_model_name": "LayoutModel",
            "_view_count": null,
            "_view_module": "@jupyter-widgets/base",
            "_view_module_version": "1.2.0",
            "_view_name": "LayoutView",
            "align_content": null,
            "align_items": null,
            "align_self": null,
            "border": null,
            "bottom": null,
            "display": null,
            "flex": null,
            "flex_flow": null,
            "grid_area": null,
            "grid_auto_columns": null,
            "grid_auto_flow": null,
            "grid_auto_rows": null,
            "grid_column": null,
            "grid_gap": null,
            "grid_row": null,
            "grid_template_areas": null,
            "grid_template_columns": null,
            "grid_template_rows": null,
            "height": null,
            "justify_content": null,
            "justify_items": null,
            "left": null,
            "margin": null,
            "max_height": null,
            "max_width": null,
            "min_height": null,
            "min_width": null,
            "object_fit": null,
            "object_position": null,
            "order": null,
            "overflow": null,
            "overflow_x": null,
            "overflow_y": null,
            "padding": null,
            "right": null,
            "top": null,
            "visibility": null,
            "width": null
          }
        },
        "cb01aee6d0fb4edcbf6b89b9df891717": {
          "model_module": "@jupyter-widgets/controls",
          "model_module_version": "1.5.0",
          "model_name": "DescriptionStyleModel",
          "state": {
            "_model_module": "@jupyter-widgets/controls",
            "_model_module_version": "1.5.0",
            "_model_name": "DescriptionStyleModel",
            "_view_count": null,
            "_view_module": "@jupyter-widgets/base",
            "_view_module_version": "1.2.0",
            "_view_name": "StyleView",
            "description_width": ""
          }
        }
      }
    }
  },
  "nbformat": 4,
  "nbformat_minor": 0
}
